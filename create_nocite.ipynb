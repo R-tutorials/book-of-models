{
 "cells": [
  {
   "cell_type": "code",
   "execution_count": 4,
   "metadata": {},
   "outputs": [
    {
     "name": "stdout",
     "output_type": "stream",
     "text": [
      "@barrett_causal_2023, @hastie_elements_2017, @goodfellow_deep_2016, @scikit-learn_116_2023, @james_introduction_2021, @lang_mlr3_2019, @gelman_regression_2020, @wooldridge_introductory_2012, @google_machine_nodate, @rovine_peirce_2004, @grolemund_welcome_2023, @greene_econometric_2017, @brownlee_gentle_2016, @google_introduction_nodate, @scikit-learn_nested_nodate, @schmidhuber_annotated_2022, @welchowski_techniques_2022, @burzykowski_explanatory_2020, @bycroft_llm_nodate, @kunzel_metalearners_2019, @pearl_causal_2009, @pearl_causal_nodate, @morgan_counterfactuals_2014, @facure_alves_causal_2022, @molnar_interpretable_nodate, @pok_how_nodate, @shevchenko_types_nodate, @zhang_dive_nodate, @vanderplas_python_2016, @cunningham_causal_2023, @causalml_causalml_2023, @masis_interpretable_2023, @faraway_linear_2014, @wood_generalized_2017, @mcelreath_statistical_nodate, @harrell_regression_2015, @fahrmeir_regression_2013, @gelman_what_2013, @kuhn_tidy_2023, @ucla_advanced_research_computing_faq_nodate, @roback_beyond_2021\n"
     ]
    }
   ],
   "source": [
    "import re\n",
    "\n",
    "# Specify the path to the \"references.bib\" file\n",
    "file_path = \"references.bib\"\n",
    "\n",
    "# Read the contents of the file\n",
    "with open(file_path, \"r\") as file:\n",
    "    file_contents = file.read()\n",
    "\n",
    "# Use regular expressions to extract the names of the BibTeX references\n",
    "references = re.findall(r'@.*?{(.*?),', file_contents)\n",
    "\n",
    "# Create a comma-separated list of the reference names with \"@\" symbol\n",
    "reference_list = [f\"@{ref}\" for ref in references]\n",
    "\n",
    "# Concatenate the list into a single string\n",
    "reference_string = ', '.join(reference_list)\n",
    "\n",
    "# Print the resulting string\n",
    "print(reference_string)\n"
   ]
  }
 ],
 "metadata": {
  "kernelspec": {
   "display_name": "book-of-models",
   "language": "python",
   "name": "python3"
  },
  "language_info": {
   "codemirror_mode": {
    "name": "ipython",
    "version": 3
   },
   "file_extension": ".py",
   "mimetype": "text/x-python",
   "name": "python",
   "nbconvert_exporter": "python",
   "pygments_lexer": "ipython3",
   "version": "3.11.3"
  }
 },
 "nbformat": 4,
 "nbformat_minor": 2
}
